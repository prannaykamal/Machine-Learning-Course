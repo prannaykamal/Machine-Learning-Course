{
  "nbformat": 4,
  "nbformat_minor": 0,
  "metadata": {
    "colab": {
      "provenance": []
    },
    "kernelspec": {
      "name": "python3",
      "display_name": "Python 3"
    },
    "language_info": {
      "name": "python"
    }
  },
  "cells": [
    {
      "cell_type": "code",
      "source": [
        "import pandas as pd\n",
        "import numpy as np\n",
        "from sklearn.preprocessing import MinMaxScaler, StandardScaler, OneHotEncoder, LabelEncoder\n",
        "from sklearn.metrics.pairwise import cosine_similarity\n",
        "from scipy.stats import pearsonr\n",
        "\n",
        "df = pd.read_csv('/content/AWCustomers.csv')\n",
        "\n",
        "def select_features(df):\n",
        "    available_columns = df.columns.tolist()\n",
        "    possible_features = [\n",
        "        'MaritalStatus', 'Gender', 'YearlyIncome', 'TotalChildren',\n",
        "        'NumberChildrenAtHome', 'Education', 'Occupation', 'HomeOwnerFlag',\n",
        "        'NumberCarsOwned', 'CommuteDistance', 'BikeBuyer'\n",
        "    ]\n",
        "    selected_features = [col for col in possible_features if col in available_columns]\n",
        "    return df[selected_features]\n",
        "\n",
        "df_selected = select_features(df)\n",
        "\n",
        "def preprocess_data(df):\n",
        "    df = df.copy()\n",
        "\n",
        "    df.fillna(df.mode().iloc[0], inplace=True)\n",
        "\n",
        "    if 'YearlyIncome' in df.columns:\n",
        "        df['YearlyIncome'] = pd.cut(df['YearlyIncome'], bins=5, labels=['Low', 'Medium-Low', 'Medium', 'Medium-High', 'High'])\n",
        "\n",
        "    numeric_cols = [col for col in ['TotalChildren', 'NumberChildrenAtHome', 'NumberCarsOwned'] if col in df.columns]\n",
        "    if numeric_cols:\n",
        "        scaler = MinMaxScaler()\n",
        "        df[numeric_cols] = scaler.fit_transform(df[numeric_cols])\n",
        "        std_scaler = StandardScaler()\n",
        "        df[numeric_cols] = std_scaler.fit_transform(df[numeric_cols])\n",
        "\n",
        "    categorical_cols = [col for col in ['MaritalStatus', 'Gender', 'Education', 'Occupation', 'CommuteDistance', 'YearlyIncome'] if col in df.columns]\n",
        "    if categorical_cols:\n",
        "        df = pd.get_dummies(df, columns=categorical_cols)\n",
        "\n",
        "    return df\n",
        "\n",
        "df_processed = preprocess_data(df_selected)\n",
        "\n",
        "def calculate_similarity(df, idx1, idx2):\n",
        "    obj1 = df.iloc[idx1].values.reshape(1, -1)\n",
        "    obj2 = df.iloc[idx2].values.reshape(1, -1)\n",
        "\n",
        "    simple_matching = np.mean(obj1 == obj2)\n",
        "    jaccard = np.sum(np.minimum(obj1, obj2)) / np.sum(np.maximum(obj1, obj2))\n",
        "    cosine = cosine_similarity(obj1, obj2)[0][0]\n",
        "\n",
        "    return simple_matching, jaccard, cosine\n",
        "\n",
        "def calculate_correlation(df):\n",
        "    if 'CommuteDistance' in df.columns and 'YearlyIncome' in df.columns:\n",
        "        label_encoder = LabelEncoder()\n",
        "        df['CommuteDistance_encoded'] = label_encoder.fit_transform(df['CommuteDistance'])\n",
        "        df['YearlyIncome_encoded'] = label_encoder.fit_transform(df['YearlyIncome'])\n",
        "        corr, _ = pearsonr(df['CommuteDistance_encoded'], df['YearlyIncome_encoded'])\n",
        "        return corr\n",
        "    else:\n",
        "        return None\n",
        "\n",
        "similarity_results = calculate_similarity(df_processed, 0, 1) if len(df_processed) > 1 else None\n",
        "correlation_result = calculate_correlation(df_selected) if 'CommuteDistance' in df_selected.columns and 'YearlyIncome' in df_selected.columns else None"
      ],
      "metadata": {
        "id": "46eRHsS4k56d"
      },
      "execution_count": 4,
      "outputs": []
    }
  ]
}